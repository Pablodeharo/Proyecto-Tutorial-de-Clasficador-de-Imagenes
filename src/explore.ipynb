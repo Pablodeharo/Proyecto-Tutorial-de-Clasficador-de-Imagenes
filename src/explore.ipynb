{
 "cells": [
  {
   "cell_type": "code",
   "execution_count": 15,
   "metadata": {},
   "outputs": [],
   "source": [
    "import pandas as pd\n",
    "import os\n",
    "from PIL import Image\n",
    "import matplotlib.pyplot as plt\n",
    "from tensorflow.keras.preprocessing.image import ImageDataGenerator\n",
    "import tensorflow as tf\n",
    "from tensorflow.keras import layers, models\n",
    "from keras.models import Sequential\n",
    "from keras.layers import Conv2D, MaxPooling2D, Flatten, Dense"
   ]
  },
  {
   "cell_type": "code",
   "execution_count": 29,
   "metadata": {},
   "outputs": [
    {
     "ename": "FileNotFoundError",
     "evalue": "[Errno 2] No such file or directory: 'C:/Users/lenovo/Desktop/Proyectos Machine Learning/Bootcamp/Proyecto Tutorial de Clasficador de Imagenes/Data/Raw/Clasificadas/gato\\\\dog\\\\dog.0.jpg'",
     "output_type": "error",
     "traceback": [
      "\u001b[1;31m---------------------------------------------------------------------------\u001b[0m",
      "\u001b[1;31mFileNotFoundError\u001b[0m                         Traceback (most recent call last)",
      "Cell \u001b[1;32mIn[29], line 17\u001b[0m\n\u001b[0;32m     14\u001b[0m     plt\u001b[38;5;241m.\u001b[39mshow()\n\u001b[0;32m     16\u001b[0m \u001b[38;5;66;03m# Mostrar las primeras 9 imágenes de perros\u001b[39;00m\n\u001b[1;32m---> 17\u001b[0m \u001b[43mshow_images\u001b[49m\u001b[43m(\u001b[49m\u001b[43mtarget_folder\u001b[49m\u001b[43m,\u001b[49m\u001b[43m \u001b[49m\u001b[38;5;124;43m\"\u001b[39;49m\u001b[38;5;124;43mdog\u001b[39;49m\u001b[38;5;124;43m\"\u001b[39;49m\u001b[43m)\u001b[49m\n\u001b[0;32m     19\u001b[0m \u001b[38;5;66;03m# Mostrar las primeras 9 imágenes de gatos\u001b[39;00m\n\u001b[0;32m     20\u001b[0m show_images(target_folder, \u001b[38;5;124m\"\u001b[39m\u001b[38;5;124mcat\u001b[39m\u001b[38;5;124m\"\u001b[39m)\n",
      "Cell \u001b[1;32mIn[29], line 10\u001b[0m, in \u001b[0;36mshow_images\u001b[1;34m(folder, label)\u001b[0m\n\u001b[0;32m      8\u001b[0m \u001b[38;5;28;01mfor\u001b[39;00m i \u001b[38;5;129;01min\u001b[39;00m \u001b[38;5;28mrange\u001b[39m(\u001b[38;5;241m9\u001b[39m):\n\u001b[0;32m      9\u001b[0m     img_path \u001b[38;5;241m=\u001b[39m os\u001b[38;5;241m.\u001b[39mpath\u001b[38;5;241m.\u001b[39mjoin(folder, label, \u001b[38;5;124mf\u001b[39m\u001b[38;5;124m\"\u001b[39m\u001b[38;5;132;01m{\u001b[39;00mlabel\u001b[38;5;132;01m}\u001b[39;00m\u001b[38;5;124m.\u001b[39m\u001b[38;5;132;01m{\u001b[39;00mi\u001b[38;5;132;01m}\u001b[39;00m\u001b[38;5;124m.jpg\u001b[39m\u001b[38;5;124m\"\u001b[39m)\n\u001b[1;32m---> 10\u001b[0m     img \u001b[38;5;241m=\u001b[39m \u001b[43mImage\u001b[49m\u001b[38;5;241;43m.\u001b[39;49m\u001b[43mopen\u001b[49m\u001b[43m(\u001b[49m\u001b[43mimg_path\u001b[49m\u001b[43m)\u001b[49m\n\u001b[0;32m     11\u001b[0m     axes[i]\u001b[38;5;241m.\u001b[39mimshow(img)\n\u001b[0;32m     12\u001b[0m     axes[i]\u001b[38;5;241m.\u001b[39mset_title(label)\n",
      "File \u001b[1;32mc:\\Users\\lenovo\\AppData\\Local\\Programs\\Python\\Python312\\Lib\\site-packages\\PIL\\Image.py:3247\u001b[0m, in \u001b[0;36mopen\u001b[1;34m(fp, mode, formats)\u001b[0m\n\u001b[0;32m   3244\u001b[0m     filename \u001b[38;5;241m=\u001b[39m fp\n\u001b[0;32m   3246\u001b[0m \u001b[38;5;28;01mif\u001b[39;00m filename:\n\u001b[1;32m-> 3247\u001b[0m     fp \u001b[38;5;241m=\u001b[39m \u001b[43mbuiltins\u001b[49m\u001b[38;5;241;43m.\u001b[39;49m\u001b[43mopen\u001b[49m\u001b[43m(\u001b[49m\u001b[43mfilename\u001b[49m\u001b[43m,\u001b[49m\u001b[43m \u001b[49m\u001b[38;5;124;43m\"\u001b[39;49m\u001b[38;5;124;43mrb\u001b[39;49m\u001b[38;5;124;43m\"\u001b[39;49m\u001b[43m)\u001b[49m\n\u001b[0;32m   3248\u001b[0m     exclusive_fp \u001b[38;5;241m=\u001b[39m \u001b[38;5;28;01mTrue\u001b[39;00m\n\u001b[0;32m   3250\u001b[0m \u001b[38;5;28;01mtry\u001b[39;00m:\n",
      "\u001b[1;31mFileNotFoundError\u001b[0m: [Errno 2] No such file or directory: 'C:/Users/lenovo/Desktop/Proyectos Machine Learning/Bootcamp/Proyecto Tutorial de Clasficador de Imagenes/Data/Raw/Clasificadas/gato\\\\dog\\\\dog.0.jpg'"
     ]
    },
    {
     "data": {
      "image/png": "[encoded data removed]",
      "text/plain": [
       "<Figure size 1000x1000 with 9 Axes>"
      ]
     },
     "metadata": {},
     "output_type": "display_data"
    }
   ],
   "source": [
    "# Ruta a la carpeta que contiene las imágenes de perros y gatos\n",
    "target_folder = \"C:/Users/lenovo/Desktop/Proyectos Machine Learning/Bootcamp/Proyecto Tutorial de Clasficador de Imagenes/Data/Raw/Clasificadas/gato\"\n",
    "\n",
    "def show_images(folder, label):\n",
    "    fig, axes = plt.subplots(3, 3, figsize=(10, 10))\n",
    "    fig.subplots_adjust(hspace=0.5, wspace=0.5)\n",
    "    axes = axes.ravel()\n",
    "    for i in range(9):\n",
    "        img_path = os.path.join(folder, label, f\"{label}.{i}.jpg\")\n",
    "        img = Image.open(img_path)\n",
    "        axes[i].imshow(img)\n",
    "        axes[i].set_title(label)\n",
    "        axes[i].axis('off')\n",
    "    plt.show()\n",
    "    \n",
    "# Mostrar las primeras 9 imágenes de perros\n",
    "show_images(target_folder, \"dog\")\n",
    "\n",
    "# Mostrar las primeras 9 imágenes de gatos\n",
    "show_images(target_folder, \"cat\")"
   ]
  },
  {
   "cell_type": "code",
   "execution_count": 6,
   "metadata": {},
   "outputs": [
    {
     "name": "stdout",
     "output_type": "stream",
     "text": [
      "Imágenes clasificadas correctamente.\n"
     ]
    }
   ],
   "source": [
    "import os\n",
    "import shutil\n",
    "\n",
    "# Ruta a la carpeta que contiene las imágenes sin clasificar\n",
    "source_folder = \"C:/Users/lenovo/Desktop/Proyectos Machine Learning/Bootcamp/Proyecto Tutorial de Clasficador de Imagenes/Data/Raw/train\"\n",
    "\n",
    "# Ruta a la carpeta donde deseas organizar las imágenes clasificadas\n",
    "target_folder = \"C:/Users/lenovo/Desktop/Proyectos Machine Learning/Bootcamp/Proyecto Tutorial de Clasficador de Imagenes/Data/Raw/Clasificadas\"\n",
    "\n",
    "# Crear subdirectorios para las clases\n",
    "classes = [\"perro\", \"gato\"]\n",
    "for class_name in classes:\n",
    "    class_folder = os.path.join(target_folder, class_name)\n",
    "    os.makedirs(class_folder, exist_ok=True)\n",
    "\n",
    "# Recorrer todas las imágenes en la carpeta sin clasificar\n",
    "for filename in os.listdir(source_folder):\n",
    "    # Verificar si el archivo es una imagen\n",
    "    if filename.endswith(\".jpg\") or filename.endswith(\".png\"):\n",
    "        # Determinar la clase basada en el nombre del archivo\n",
    "        if \"dog\" in filename:\n",
    "            class_name = \"perro\"\n",
    "        elif \"cat\" in filename:\n",
    "            class_name = \"gato\"\n",
    "        else:\n",
    "            continue  # Saltar el archivo si no contiene \"dog\" o \"cat\" en el nombre\n",
    "        # Mover el archivo a la carpeta correspondiente\n",
    "        source_path = os.path.join(source_folder, filename)\n",
    "        target_path = os.path.join(target_folder, class_name, filename)\n",
    "        shutil.move(source_path, target_path)\n",
    "\n",
    "print(\"Imágenes clasificadas correctamente.\")"
   ]
  },
  {
   "cell_type": "code",
   "execution_count": 7,
   "metadata": {},
   "outputs": [
    {
     "name": "stdout",
     "output_type": "stream",
     "text": [
      "Found 20000 images belonging to 2 classes.\n",
      "Found 5000 images belonging to 2 classes.\n",
      "Número de imágenes de entrenamiento: 625\n",
      "Número de imágenes de validación: 157\n"
     ]
    }
   ],
   "source": [
    "# Definir la ruta a la carpeta que contiene los datos de entrenamiento y prueba\n",
    "train_folder = \"C:/Users/lenovo/Desktop/Proyectos Machine Learning/Bootcamp/Proyecto Tutorial de Clasficador de Imagenes/Data/Raw/Clasificadas\"\n",
    "test_folder = \"C:/Users/lenovo/Desktop/Proyectos Machine Learning/Bootcamp/Proyecto Tutorial de Clasficador de Imagenes/Data/Raw/test1\"\n",
    "\n",
    "# Crear un generador de datos para preprocesamiento de imágenes con redimensionamiento\n",
    "data_generator = ImageDataGenerator(\n",
    "    rescale=1./255,             # Escalar los valores de los píxeles al rango [0,1]\n",
    "    validation_split=0.2,       # Proporción de datos a utilizar para validación\n",
    "    preprocessing_function=lambda x: tf.image.resize(x, [200, 200])  # Redimensionar imágenes a 200x200 píxeles\n",
    ")\n",
    "\n",
    "# Configurar el generador de datos de entrenamiento y validación\n",
    "train_data_generator = data_generator.flow_from_directory(\n",
    "    directory=train_folder,\n",
    "    target_size=(200, 200),     # Redimensionar todas las imágenes a 200x200 píxeles\n",
    "    batch_size=32,              # Tamaño del lote\n",
    "    class_mode='binary',        # Modo de clasificación: 'binary' para dos clases\n",
    "    subset='training'           # Subconjunto de datos: 'training' para entrenamiento\n",
    ")\n",
    "\n",
    "validation_data_generator = data_generator.flow_from_directory(\n",
    "    directory=train_folder,\n",
    "    target_size=(200, 200),     # Redimensionar todas las imágenes a 200x200 píxeles\n",
    "    batch_size=32,              # Tamaño del lote\n",
    "    class_mode='binary',        # Modo de clasificación: 'binary' para dos clases\n",
    "    subset='validation'         # Subconjunto de datos: 'validation' para validación\n",
    ")\n",
    "\n",
    "# Mostrar el número de imágenes de entrenamiento y validación\n",
    "print(\"Número de imágenes de entrenamiento:\", len(train_data_generator))\n",
    "print(\"Número de imágenes de validación:\", len(validation_data_generator))"
   ]
  },
  {
   "cell_type": "code",
   "execution_count": 8,
   "metadata": {},
   "outputs": [
    {
     "name": "stderr",
     "output_type": "stream",
     "text": [
      "c:\\Users\\lenovo\\AppData\\Local\\Programs\\Python\\Python312\\Lib\\site-packages\\keras\\src\\layers\\convolutional\\base_conv.py:107: UserWarning: Do not pass an `input_shape`/`input_dim` argument to a layer. When using Sequential models, prefer using an `Input(shape)` object as the first layer in the model instead.\n",
      "  super().__init__(activity_regularizer=activity_regularizer, **kwargs)\n"
     ]
    }
   ],
   "source": [
    "\n",
    "\n",
    "# Definir el modelo\n",
    "model = models.Sequential([\n",
    "    # Capa de convolución 2D con 32 filtros, función de activación ReLU y tamaño del kernel 3x3\n",
    "    layers.Conv2D(32, (3, 3), activation='relu', input_shape=(200, 200, 3)),\n",
    "    # Capa de agrupación máxima con tamaño de ventana 2x2\n",
    "    layers.MaxPooling2D((2, 2)),\n",
    "    # Capa de convolución 2D con 64 filtros, función de activación ReLU y tamaño del kernel 3x3\n",
    "    layers.Conv2D(64, (3, 3), activation='relu'),\n",
    "    # Capa de agrupación máxima con tamaño de ventana 2x2\n",
    "    layers.MaxPooling2D((2, 2)),\n",
    "    # Capa de convolución 2D con 128 filtros, función de activación ReLU y tamaño del kernel 3x3\n",
    "    layers.Conv2D(128, (3, 3), activation='relu'),\n",
    "    # Capa de agrupación máxima con tamaño de ventana 2x2\n",
    "    layers.MaxPooling2D((2, 2)),\n",
    "    # Aplanar la salida para pasarla a la capa densa\n",
    "    layers.Flatten(),\n",
    "    # Capa densa con 512 unidades y función de activación ReLU\n",
    "    layers.Dense(512, activation='relu'),\n",
    "    # Capa de salida con 1 unidad y función de activación sigmoide (para clasificación binaria)\n",
    "    layers.Dense(1, activation='sigmoid')\n",
    "])\n",
    "\n",
    "# Compilar el modelo\n",
    "model.compile(optimizer='adam',\n",
    "              loss='binary_crossentropy',\n",
    "              metrics=['accuracy'])\n",
    "\n",
    "# Resumen del modelo\n"
   ]
  },
  {
   "cell_type": "code",
   "execution_count": 11,
   "metadata": {},
   "outputs": [
    {
     "name": "stdout",
     "output_type": "stream",
     "text": [
      "Epoch 1/10\n",
      "\u001b[1m625/625\u001b[0m \u001b[32m━━━━━━━━━━━━━━━━━━━━\u001b[0m\u001b[37m\u001b[0m \u001b[1m1803s\u001b[0m 3s/step - accuracy: 0.6769 - loss: 0.5989 - val_accuracy: 0.7334 - val_loss: 0.5258\n",
      "Epoch 2/10\n",
      "\u001b[1m625/625\u001b[0m \u001b[32m━━━━━━━━━━━━━━━━━━━━\u001b[0m\u001b[37m\u001b[0m \u001b[1m2s\u001b[0m 3ms/step - accuracy: 0.0000e+00 - loss: 0.0000e+00 - val_accuracy: 0.7500 - val_loss: 0.5096\n"
     ]
    },
    {
     "name": "stderr",
     "output_type": "stream",
     "text": [
      "c:\\Users\\lenovo\\AppData\\Local\\Programs\\Python\\Python312\\Lib\\contextlib.py:158: UserWarning: Your input ran out of data; interrupting training. Make sure that your dataset or generator can generate at least `steps_per_epoch * epochs` batches. You may need to use the `.repeat()` function when building your dataset.\n",
      "  self.gen.throw(value)\n"
     ]
    },
    {
     "name": "stdout",
     "output_type": "stream",
     "text": [
      "Epoch 3/10\n",
      "\u001b[1m625/625\u001b[0m \u001b[32m━━━━━━━━━━━━━━━━━━━━\u001b[0m\u001b[37m\u001b[0m \u001b[1m1611s\u001b[0m 3s/step - accuracy: 0.7797 - loss: 0.4652 - val_accuracy: 0.7845 - val_loss: 0.4527\n",
      "Epoch 4/10\n",
      "\u001b[1m625/625\u001b[0m \u001b[32m━━━━━━━━━━━━━━━━━━━━\u001b[0m\u001b[37m\u001b[0m \u001b[1m0s\u001b[0m 265us/step - accuracy: 0.0000e+00 - loss: 0.0000e+00 - val_accuracy: 1.0000 - val_loss: 0.2017\n",
      "Epoch 5/10\n",
      "\u001b[1m625/625\u001b[0m \u001b[32m━━━━━━━━━━━━━━━━━━━━\u001b[0m\u001b[37m\u001b[0m \u001b[1m2012s\u001b[0m 3s/step - accuracy: 0.8265 - loss: 0.3759 - val_accuracy: 0.8101 - val_loss: 0.4206\n",
      "Epoch 6/10\n",
      "\u001b[1m625/625\u001b[0m \u001b[32m━━━━━━━━━━━━━━━━━━━━\u001b[0m\u001b[37m\u001b[0m \u001b[1m0s\u001b[0m 300us/step - accuracy: 0.0000e+00 - loss: 0.0000e+00 - val_accuracy: 0.7500 - val_loss: 0.4314\n",
      "Epoch 7/10\n",
      "\u001b[1m625/625\u001b[0m \u001b[32m━━━━━━━━━━━━━━━━━━━━\u001b[0m\u001b[37m\u001b[0m \u001b[1m2070s\u001b[0m 3s/step - accuracy: 0.8886 - loss: 0.2611 - val_accuracy: 0.7989 - val_loss: 0.4869\n",
      "Epoch 8/10\n",
      "\u001b[1m625/625\u001b[0m \u001b[32m━━━━━━━━━━━━━━━━━━━━\u001b[0m\u001b[37m\u001b[0m \u001b[1m0s\u001b[0m 382us/step - accuracy: 0.0000e+00 - loss: 0.0000e+00 - val_accuracy: 0.8750 - val_loss: 0.2732\n",
      "Epoch 9/10\n",
      "\u001b[1m625/625\u001b[0m \u001b[32m━━━━━━━━━━━━━━━━━━━━\u001b[0m\u001b[37m\u001b[0m \u001b[1m1713s\u001b[0m 3s/step - accuracy: 0.9450 - loss: 0.1378 - val_accuracy: 0.8019 - val_loss: 0.6119\n",
      "Epoch 10/10\n",
      "\u001b[1m625/625\u001b[0m \u001b[32m━━━━━━━━━━━━━━━━━━━━\u001b[0m\u001b[37m\u001b[0m \u001b[1m0s\u001b[0m 230us/step - accuracy: 0.0000e+00 - loss: 0.0000e+00 - val_accuracy: 0.7500 - val_loss: 0.4903\n"
     ]
    }
   ],
   "source": [
    "# Entrenamos el modelo \n",
    "# Definir el número de épocas de entrenamiento\n",
    "epochs = 10\n",
    "\n",
    "# Entrenar el modelo\n",
    "history = model.fit(\n",
    "    train_data_generator,\n",
    "    steps_per_epoch=train_data_generator.samples // train_data_generator.batch_size,\n",
    "    epochs=epochs,\n",
    "    validation_data=validation_data_generator,\n",
    "    validation_steps=validation_data_generator.samples // validation_data_generator.batch_size\n",
    ")"
   ]
  },
  {
   "cell_type": "code",
   "execution_count": null,
   "metadata": {},
   "outputs": [],
   "source": [
    "from keras.models import Sequential\n",
    "from keras.layers import Conv2D, MaxPooling2D, Flatten, Dense\n",
    "\n",
    "# Definir el modelo\n",
    "model = Sequential()\n",
    "model.add(Conv2D(input_shape=(200,200,3), filters=64, kernel_size=(3,3), padding=\"same\", activation=\"relu\"))\n",
    "model.add(Conv2D(filters=64, kernel_size=(3,3), padding=\"same\", activation=\"relu\"))\n",
    "model.add(MaxPooling2D(pool_size=(2,2), strides=(2,2)))\n",
    "model.add(Conv2D(filters=128, kernel_size=(3,3), padding=\"same\", activation=\"relu\"))\n",
    "model.add(Conv2D(filters=128, kernel_size=(3,3), padding=\"same\", activation=\"relu\"))\n",
    "model.add(MaxPooling2D(pool_size=(2,2), strides=(2,2)))\n",
    "model.add(Conv2D(filters=256, kernel_size=(3,3), padding=\"same\", activation=\"relu\"))\n",
    "model.add(Conv2D(filters=256, kernel_size=(3,3), padding=\"same\", activation=\"relu\"))\n",
    "model.add(Conv2D(filters=256, kernel_size=(3,3), padding=\"same\", activation=\"relu\"))\n",
    "model.add(MaxPooling2D(pool_size=(2,2), strides=(2,2)))\n",
    "model.add(Conv2D(filters=512, kernel_size=(3,3), padding=\"same\", activation=\"relu\"))\n",
    "model.add(Conv2D(filters=512, kernel_size=(3,3), padding=\"same\", activation=\"relu\"))\n",
    "model.add(Conv2D(filters=512, kernel_size=(3,3), padding=\"same\", activation=\"relu\"))\n",
    "model.add(MaxPooling2D(pool_size=(2,2), strides=(2,2)))\n",
    "model.add(Conv2D(filters=512, kernel_size=(3,3), padding=\"same\", activation=\"relu\"))\n",
    "model.add(Conv2D(filters=512, kernel_size=(3,3), padding=\"same\", activation=\"relu\"))\n",
    "model.add(Conv2D(filters=512, kernel_size=(3,3), padding=\"same\", activation=\"relu\"))\n",
    "model.add(MaxPooling2D(pool_size=(2,2), strides=(2,2)))\n",
    "model.add(Flatten())\n",
    "model.add(Dense(units=4096, activation=\"relu\"))\n",
    "model.add(Dense(units=4096, activation=\"relu\"))\n",
    "model.add(Dense(units=2, activation=\"softmax\"))\n",
    "\n",
    "# Compilar el modelo\n",
    "model.compile(optimizer=\"adam\", loss=\"sparse_categorical_crossentropy\", metrics=[\"accuracy\"])\n",
    "\n",
    "# Resumen del modelo\n",
    "model.summary()\n",
    "\n",
    "# Entrenar el modelo\n",
    "history = model.fit(train_data_generator, epochs=10, validation_data=validation_data_generator)"
   ]
  }
 ],
 "metadata": {
  "kernelspec": {
   "display_name": "Python 3",
   "language": "python",
   "name": "python3"
  },
  "language_info": {
   "codemirror_mode": {
    "name": "ipython",
    "version": 3
   },
   "file_extension": ".py",
   "mimetype": "text/x-python",
   "name": "python",
   "nbconvert_exporter": "python",
   "pygments_lexer": "ipython3",
   "version": "3.12.2"
  }
 },
 "nbformat": 4,
 "nbformat_minor": 2
}
